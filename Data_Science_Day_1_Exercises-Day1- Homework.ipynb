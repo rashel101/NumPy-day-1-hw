{
 "cells": [
  {
   "cell_type": "markdown",
   "metadata": {},
   "source": [
    "# Exercises"
   ]
  },
  {
   "cell_type": "markdown",
   "metadata": {},
   "source": [
    "### #1 - Calculate the BMI (body mass index) on the two lists below using NDArrays..."
   ]
  },
  {
   "cell_type": "code",
   "execution_count": 1,
   "metadata": {},
   "outputs": [
    {
     "name": "stdout",
     "output_type": "stream",
     "text": [
      "The BMI's are\n",
      "[16.86620458 17.87755102 18.82562984 19.71450617 20.54794521 21.32943755\n",
      " 22.06222222]\n"
     ]
    }
   ],
   "source": [
    "import numpy as np\n",
    "# formula = weight / (height**2) * 730\n",
    "height = [69, 70, 71, 72, 73, 74, 75]\n",
    "weight = [110, 120, 130, 140, 150, 160, 170]\n",
    "\n",
    "# OUTPUT: [16.86620458 17.87755102 18.82562984 19.71450617 20.54794521 21.32943755\n",
    "# 22.06222222]\n",
    "nd_height = np.array(height)\n",
    "nd_width = np.array(weight)\n",
    "bmi_calc  = nd_width / (nd_height**2) * 730\n",
    "print(\"The BMI's are\")\n",
    "print(bmi_calc)\n",
    "\n"
   ]
  },
  {
   "cell_type": "markdown",
   "metadata": {},
   "source": [
    "### #2 - Create a function that will take in two parameters and will create a random matrix based off of those parameters. Extra: Have additional parameters taken in that allow the user to choose the shape and data type of the matrix."
   ]
  },
  {
   "cell_type": "code",
   "execution_count": 11,
   "metadata": {},
   "outputs": [
    {
     "name": "stdout",
     "output_type": "stream",
     "text": [
      "[[4.94315155 8.74493927 7.90609076]\n",
      " [7.14191587 3.39482208 6.61250422]\n",
      " [5.25019604 6.57241479 8.19787891]]\n",
      "[[3 6 4 6 4 8]\n",
      " [8 9 1 1 7 1]\n",
      " [4 7 8 3 5 9]\n",
      " [6 1 3 6 8 3]\n",
      " [7 6 7 4 2 2]]\n",
      "[[3 1 9]\n",
      " [1 7 1]\n",
      " [1 1 1]]\n"
     ]
    }
   ],
   "source": [
    "\"\"\"\n",
    "Example Result\n",
    "array([[14.21633515,  7.98846653,  9.64140715],\n",
    "       [ 6.30982234,  9.96414331,  8.43153688],\n",
    "       [14.73102068, 11.76072894, 14.23356121]])\n",
    "\"\"\"\n",
    "# def makeMatrix(low,high,shape,data_type = float): -- Example\n",
    "#pass\n",
    "def makeMatrix(low,high,shape = (3,3),data_type = float):\n",
    "    if data_type == int:\n",
    "        return(np.random.randint(low, high, size = shape))\n",
    "    return(np.random.uniform(low,high, size= shape))\n",
    "\n",
    "print(makeMatrix(1,10))\n",
    "print(makeMatrix(1,10,data_type = int, shape=(5,6)))\n",
    "print(makeMatrix(1,10, data_type = int))\n"
   ]
  },
  {
   "cell_type": "markdown",
   "metadata": {},
   "source": [
    "### #3 - Extra: Open and load the data in the two text files that have the Boston Red Sox hitting data for the past seasons. Compare the difference in the two years by putting the data into an NDArray and running a differencial operation on it. The column to look for will be SLG.\n",
    "\n",
    "Your output should display which year (either 2017 or 2018) was a better year based on SLG"
   ]
  },
  {
   "cell_type": "code",
   "execution_count": 16,
   "metadata": {},
   "outputs": [
    {
     "name": "stdout",
     "output_type": "stream",
     "text": [
      "['Rk,Pos,Name,Age,G,PA,AB,R,H,2B,3B,HR,RBI,SB,CS,BB,SO,BA,OBP,SLG,OPS,OPS+,TB,GDP,HBP,SH,SF,IBB\\n', '1,C,Christian Vazquez,26,99,345,324,43,94,18,2,5,32,7,2,17,64,.290,.330,.404,.735,91,131,14,3,0,1,0\\n', '2,1B,Mitch Moreland,31,149,576,508,73,125,34,0,22,79,0,1,57,120,.246,.326,.443,.769,99,225,14,6,0,5,6\\n', '3,2B,Dustin Pedroia,33,105,463,406,46,119,19,0,7,62,4,3,49,48,.293,.369,.392,.760,100,159,11,2,2,4,4\\n', '4,SS,Xander Bogaerts,24,148,635,571,94,156,32,6,10,62,15,1,56,116,.273,.343,.403,.746,95,230,17,6,0,2,6\\n']\n",
      "Rk,Pos,Name,Age,G,PA,AB,R,H,2B,3B,HR,RBI,SB,CS,BB,SO,BA,OBP,SLG,OPS,OPS+,TB,GDP,HBP,SH,SF,IBB\n",
      "1,C,Sandy Leon,29,89,288,265,30,47,12,0,5,22,1,0,15,75,.177,.232,.279,.511,37,74,6,4,3,1,0\n",
      "2,1B,Mitch Moreland,32,124,459,404,57,99,23,4,15,68,2,0,50,102,.245,.325,.433,.758,102,175,12,0,0,5,2\n",
      "3,2B,Eduardo Nunez,31,127,502,480,56,127,23,3,10,44,7,2,16,69,.265,.289,.388,.677,81,186,17,2,1,3,0\n",
      "4,SS,Xander Bogaerts,25,136,580,513,72,148,45,3,23,103,8,2,55,102,.288,.360,.522,.883,135,268,14,6,0,6,4\n",
      "5,3B,Rafael Devers,21,121,490,450,59,108,24,0,21,66,5,2,38,121,.240,.298,.433,.731,94,195,9,0,0,2,6\n",
      "6,LF,Andrew Benintendi,23,148,661,579,103,168,41,6,16,87,21,3,71,106,.290,.366,.465,.830,123,269,9,2,2,7,1\n",
      "7,CF,Jackie Bradley Jr.,28,144,535,474,76,111,33,4,13,59,17,1,46,137,.234,.314,.403,.717,92,191,6,11,0,4,3\n",
      "8,RF,Mookie Betts,25,136,614,520,129,180,47,5,32,80,30,6,81,91,.346,.438,.640,1.078,186,333,5,8,0,5,8\n",
      "9,DH,J.D. Martinez,30,150,649,569,111,188,37,2,43,130,6,1,69,146,.330,.402,.629,1.031,173,358,19,4,0,7,11\n",
      "10,MI,Brock Holt,30,109,367,321,41,89,18,2,7,46,7,7,37,73,.277,.362,.411,.774,109,132,7,7,0,2,2\n",
      "11,C,Christian Vazquez,27,80,269,251,24,52,10,0,3,16,4,1,13,41,.207,.257,.283,.540,46,71,5,4,1,0,1\n",
      "12,UT,Blake Swihart,26,82,207,192,28,44,10,0,3,18,6,1,15,57,.229,.285,.328,.613,65,63,4,0,0,0,0\n",
      "13,UT,Hanley Ramirez,34,44,195,177,25,45,7,0,6,29,4,1,14,35,.254,.313,.395,.708,90,70,9,2,0,2,0\n",
      "14,1B,Steve Pearce,35,50,165,136,19,38,8,1,7,26,0,0,22,27,.279,.394,.507,.901,141,69,1,5,0,2,0\n",
      "15,2B,Ian Kinsler,36,37,143,132,17,32,6,0,1,16,7,3,10,24,.242,.294,.311,.604,64,41,5,0,0,1,0\n",
      "16,SS,Tzu-Wei Lin,24,37,73,65,15,16,6,1,1,6,0,1,8,17,.246,.329,.415,.744,100,27,0,0,0,0,0\n",
      "17,UT,Sam Travis,24,19,38,36,5,8,3,0,1,7,0,0,2,10,.222,.263,.389,.652,73,14,1,0,0,0,0\n",
      "18,UT,Brandon Phillips,37,9,27,23,4,3,0,0,1,2,0,0,4,7,.130,.259,.261,.520,42,6,1,0,0,0,0\n",
      "19,2B,Dustin Pedroia,34,3,13,11,1,1,0,0,0,0,0,0,2,1,.091,.231,.091,.322,-7,1,0,0,0,0,0\n",
      "20,C,Dan Butler,31,2,7,6,0,1,0,0,0,1,0,0,0,2,.167,.143,.167,.310,-17,1,0,0,0,1,0\n"
     ]
    }
   ],
   "source": [
    "import csv\n",
    "import numpy as np\n",
    "\n",
    "#Test to make sure you have the correct data\n",
    "print(open('../day-1/files/redsox_2017_hitting.txt').readlines()[0:5])\n",
    "print(open('../day-1/files/redsox_2018_hitting.txt').read())\n"
   ]
  },
  {
   "cell_type": "code",
   "execution_count": 31,
   "metadata": {},
   "outputs": [
    {
     "name": "stdout",
     "output_type": "stream",
     "text": [
      "--2017 SLG--\n",
      "0.39334783\n",
      "1.0\n",
      "0.2\n",
      "0.15283398\n",
      "23\n",
      "--2018 SLG--\n",
      "0.64\n",
      "0.091\n",
      "0.13244301\n",
      "20\n",
      "----2017 minus 2018----\n",
      "Minimum = 0.109000005\n",
      "Maximum = 0.36\n",
      "Average = 0.0058478415\n"
     ]
    }
   ],
   "source": [
    "\"\"\"\n",
    "Example Result - Not the actual result\n",
    "Boston 18 had more SLG in 2018\n",
    "[0.404 0.443 0.392 0.403 0.482 0.424 0.402 0.459 0.429 0.354 0.387 0.333\n",
    " 0.539 0.243 0.262 0.354 0.342 0.339 0.328 0.306 0.222 0.2   1.   ]\n",
    "\"\"\"\n",
    "\n",
    "FIELDS = ['Rk', 'Pos', 'Name', 'Age', 'G', 'PA', 'AB', 'R', 'H', '2B', '3B', 'HR', 'RBI', 'SB', 'CS', \n",
    "          'BB', 'SO', 'BA', 'OBP', 'SLG', 'OPS', 'OPS+', 'TB', 'GDP', 'HBP', 'SH', 'SF', 'IBB']\n",
    "\n",
    "DATATYPES = [('rk', 'i'), ('pos', '|S25'), ('name', '|S25'), ('age', 'i'), ('g', 'i'), ('pa', 'i'), ('ab', 'i'),\n",
    "                ('r', 'i'), ('h', 'i'), ('2b', 'i'), ('3b', 'i'), ('hr', 'i'), ('rbi', 'i'), ('sb', 'i'), ('cs', 'i'),\n",
    "                ('bb', 'i'), ('so', 'i'), ('ba', 'f'), ('obp', 'f'), ('slg', 'f'), ('ops', 'f'), ('opsp', 'i'),\n",
    "                ('tb', 'i'), ('gdp', 'i'), ('hbp', 'i'), ('sh', 'i'), ('sf', 'i'), ('ibb', 'i')]\n",
    "\n",
    "#Use this function to actually open the data inside of a NDArray\n",
    "def get_data(fileName, d = ',',data_type = float):\n",
    "    data  = np.genfromtxt(fileName, delimiter = d, skip_header = 1,\n",
    "                         usecols = np.arange(0,24), invalid_raise = False,\n",
    "                         names = FIELDS, dtype = DATATYPES) \n",
    "    return data\n",
    "\n",
    "seven = get_data('../day-1/files/redsox_2017_hitting.txt')[\"SLG\"]\n",
    "print(\"--2017 SLG--\")\n",
    "print( np.average(seven))\n",
    "print( np.max(seven))\n",
    "print( np.min(seven))\n",
    "print( np.std(seven))\n",
    "print( np.size(seven))\n",
    "\n",
    "\n",
    "eight = get_data('../day-1/files/redsox_2018_hitting.txt')[\"SLG\"]\n",
    "print(\"--2018 SLG--\")\n",
    "print( np.max(eight))\n",
    "print( np.min(eight))\n",
    "print( np.std(eight))\n",
    "print( np.size(eight))\n",
    "\n",
    "\n",
    "print(\"----2017 minus 2018----\")\n",
    "print(\"Minimum =\", np.min(seven) - np.min(eight))\n",
    "print(\"Maximum =\", np.max(seven) - np.max(eight))\n",
    "print(\"Average =\", np.average(seven) - np.average(eight))\n",
    "\n"
   ]
  },
  {
   "cell_type": "code",
   "execution_count": null,
   "metadata": {},
   "outputs": [],
   "source": []
  }
 ],
 "metadata": {
  "kernelspec": {
   "display_name": "Python 3",
   "language": "python",
   "name": "python3"
  },
  "language_info": {
   "codemirror_mode": {
    "name": "ipython",
    "version": 3
   },
   "file_extension": ".py",
   "mimetype": "text/x-python",
   "name": "python",
   "nbconvert_exporter": "python",
   "pygments_lexer": "ipython3",
   "version": "3.8.5"
  }
 },
 "nbformat": 4,
 "nbformat_minor": 2
}
